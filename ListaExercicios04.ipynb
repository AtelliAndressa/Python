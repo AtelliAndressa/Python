{
 "cells": [
  {
   "cell_type": "markdown",
   "metadata": {},
   "source": [
    "# Disciplina: Algoritmos e Introdução a Computação\n",
    "   "
   ]
  },
  {
   "cell_type": "code",
   "execution_count": null,
   "metadata": {},
   "outputs": [],
   "source": [
    "# Prof. Rafael Christófano\n",
    "# Turma: 2020-2"
   ]
  },
  {
   "cell_type": "code",
   "execution_count": null,
   "metadata": {},
   "outputs": [],
   "source": [
    "# Aluno: Andressa Flávia Atelli de Sá\n"
   ]
  },
  {
   "cell_type": "markdown",
   "metadata": {},
   "source": [
    "# P2\n",
    "\n",
    "\n"
   ]
  },
  {
   "cell_type": "markdown",
   "metadata": {},
   "source": [
    "# Atenção\n",
    "#### • Provas com algoritmos muito parecidos serão desconsiderados de ambos os grupos.\n",
    "#### • Somente serão aceito algoritmos usando recursos apredidos até aqui.\n",
    "#### • Irei considerar algoritmos que fica evidente que o aluno tentou fazer, mesmo que o resultado do algoritmo não seja o correto\n",
    "#### • Prazo máximo para entrega: dia 26/11/2020 às 21h.\n",
    "#### • Uma excelente prova!"
   ]
  },
  {
   "cell_type": "code",
   "execution_count": 1,
   "metadata": {},
   "outputs": [
    {
     "name": "stdout",
     "output_type": "stream",
     "text": [
      "João\n",
      "Maria\n",
      "José\n",
      "Tadeu\n",
      "Mara\n"
     ]
    }
   ],
   "source": [
    "# 1 - Faça um programa que leia uma lista qualquer com 5 elementos e os imprima, um a um, através de iteração. (0.5 pts)\n",
    "\n",
    "lista = [\"João\", \"Maria\", \"José\", \"Tadeu\", \"Mara\"]\n",
    "for i in lista:\n",
    "    print(i)"
   ]
  },
  {
   "cell_type": "code",
   "execution_count": 4,
   "metadata": {},
   "outputs": [
    {
     "name": "stdout",
     "output_type": "stream",
     "text": [
      "[20, 15, 8, 5, 2, 0, -5, -7]\n"
     ]
    }
   ],
   "source": [
    "# 2 - Faça um programa que leia uma lista com números reais e os ordene na forma decrescente. (0.5 pts)\n",
    "\n",
    "lista=[5, 8, 15, 20, 2, -5, -7, 0]\n",
    "lista.sort(reverse=True)\n",
    "print(lista)"
   ]
  },
  {
   "cell_type": "code",
   "execution_count": 8,
   "metadata": {},
   "outputs": [
    {
     "name": "stdout",
     "output_type": "stream",
     "text": [
      "Insira seu produto: tênnis\n",
      "Insira seu produto: 35\n",
      "Insira seu produto: calça\n",
      "Insira seu produto: 46\n",
      "Insira seu produto: fim da lista\n",
      "['tênnis', '35', 'calça', '46', 'fim da lista']\n"
     ]
    }
   ],
   "source": [
    "# 3 - Faça um programa que solicite ao usuário uma informação qualquer e vá adicionando ao final de uma lista até\n",
    "# completar 5 elementos. (0.5 pts)\n",
    "\n",
    "contador = 0\n",
    "lista= []\n",
    "while contador < 5:\n",
    "    resp = input('Insira seu produto: ')\n",
    "    lista.append(resp)\n",
    "    contador += 1\n",
    "print(lista)\n"
   ]
  },
  {
   "cell_type": "code",
   "execution_count": 91,
   "metadata": {},
   "outputs": [
    {
     "name": "stdout",
     "output_type": "stream",
     "text": [
      " A soma dos elementos da lista foi 23\n",
      " A multiplicação dos elementos na lista foi 576\n",
      " O maior numero da lista é 9 e o menor numero da lista é 2\n",
      "A média dos números contidos na lista foi 5.75\n"
     ]
    }
   ],
   "source": [
    "# 4 - Faça um programa que leia uma lista com número reais e retorne a soma, multiplicação, o maior, o menor\n",
    "#e a média dos números. (0.5 pts)\n",
    "\n",
    "\n",
    "lista = [2, 4, 8, 9]\n",
    "numElementos = len(lista)\n",
    "soma = media = 0\n",
    "maior = menor = lista[0]\n",
    "multip = 1\n",
    "\n",
    "for elemento in lista:   #soma\n",
    "    soma += elemento\n",
    "for elemento in lista:    #multiplicação: \n",
    "    multip *= elemento\n",
    "\n",
    "for elemento in lista:    #menor e maior\n",
    "    if elemento > maior:\n",
    "        maior = elemento\n",
    "    elif elemento < menor:\n",
    "        menor = elemento\n",
    "        \n",
    "media = soma / numElementos #média total dentro da lista\n",
    "\n",
    "print(f' A soma dos elementos da lista foi {soma}')\n",
    "print(f' A multiplicação dos elementos na lista foi {multip}')\n",
    "print(f' O maior numero da lista é {maior} e o menor numero da lista é {menor}') \n",
    "print(f' A média dos números contidos na lista foi {media}')\n",
    "    "
   ]
  },
  {
   "cell_type": "code",
   "execution_count": 7,
   "metadata": {},
   "outputs": [
    {
     "name": "stdout",
     "output_type": "stream",
     "text": [
      "Qual o Mês que deseja ver? digite de 1 a 12: 10\n",
      "Outubro\n"
     ]
    }
   ],
   "source": [
    "# 5 - Faça um programa que leia uma lista com todos os meses do ano na ordem cronologica. O programa deverá permitir que\n",
    "# o usuário digite um número de 1 a 12 e deve retornar o mês especificado na lista. lembre-se que uma lista inicia da posição\n",
    "# (indice) 0. (1 pts)\n",
    "\n",
    "lista = ['Janeiro', 'Fevereiro', 'Março', 'Abril', 'Maio', 'Junho', 'Julho', 'Agosto', 'Setembro', 'Outubro', 'Novembro', 'Dezembro']\n",
    "mes = int(input('Qual o Mês que deseja ver? digite de 1 a 12: '))\n",
    "num = mes - 1\n",
    "print(lista[num])\n"
   ]
  },
  {
   "cell_type": "code",
   "execution_count": 6,
   "metadata": {},
   "outputs": [
    {
     "name": "stdout",
     "output_type": "stream",
     "text": [
      "[1, 7, 5, 18, 8, 32, 15, 35, 25, 47, 42, 51, 54, 92, 95, 110]\n"
     ]
    }
   ],
   "source": [
    "# 6 - Faça um programa que leia 2 listas e crie uma terceira lista com elementos em posições intercaladas entre as 2 primeiras\n",
    "# lista, por exemplo: lista3 = [lista1[0],lista2[0],lista1[1],lista2[1],...,lista1[n],lista2[n]]. (1.5 pts)\n",
    "\n",
    "lista1 = [1, 5, 8, 15, 25, 42, 54, 95]\n",
    "lista2 = [7, 18, 32, 35, 47, 51, 92, 110]\n",
    "lista = []\n",
    "\n",
    "for a,b in zip (lista1, lista2):  #A zip()função retorna um objeto zip, que é um iterador de tuplas em que o primeiro item  \n",
    "    lista.append(a)               #em cada iterador passado é pareado e, em seguida, o segundo item em cada iterador passado é pareado etc.\n",
    "    lista.append(b)\n",
    "\n",
    "print(lista)\n",
    "\n",
    "\n",
    "   \n",
    "  \n",
    "\n"
   ]
  },
  {
   "cell_type": "code",
   "execution_count": 255,
   "metadata": {},
   "outputs": [
    {
     "name": "stdout",
     "output_type": "stream",
     "text": [
      "Aluno: Ana\n",
      "Nota 1: 5\n",
      "Nota 2: 7\n",
      "Nota 3: 6\n",
      "Nota 4: 8\n",
      "Aluno: Jorge\n",
      "Nota 1: 7\n",
      "Nota 2: 5\n",
      "Nota 3: 8\n",
      "Nota 4: 4\n",
      "Aluno: Pedro\n",
      "Nota 1: 4\n",
      "Nota 2: 6\n",
      "Nota 3: 7\n",
      "Nota 4: 9\n",
      "Aluno: Maria\n",
      "Nota 1: 5\n",
      "Nota 2: 8\n",
      "Nota 3: 8\n",
      "Nota 4: 7\n",
      "Aluno: Joana\n",
      "Nota 1: 8\n",
      "Nota 2: 9\n",
      "Nota 3: 10\n",
      "Nota 4: 8\n",
      "Aluno: Telma\n",
      "Nota 1: 5\n",
      "Nota 2: 7\n",
      "Nota 3: 9\n",
      "Nota 4: 10\n",
      "Aluno -==-  Notas -==-  Média \n",
      "['Ana', [5.0, 7.0, 6.0, 8.0], 6.5]\n",
      "['Jorge', [7.0, 5.0, 8.0, 4.0], 6.0]\n",
      "['Pedro', [4.0, 6.0, 7.0, 9.0], 6.5]\n",
      "['Maria', [5.0, 8.0, 8.0, 7.0], 7.0]\n",
      "['Joana', [8.0, 9.0, 10.0, 8.0], 8.75]\n",
      "['Telma', [5.0, 7.0, 9.0, 10.0], 7.75]\n"
     ]
    }
   ],
   "source": [
    "# 7 - Faça um programa que crie uma lista com 6 sublistas, cada sublista deve conter o nome dos alunos e 4 notas. \n",
    "#O programa deverá calcular a média para cada aluno e armazenar em uma posição ao final da sublista.  (1 pts)\n",
    "\n",
    "ficha = list()\n",
    "cont = 0\n",
    "while cont < 6:\n",
    "    aluno = str(input('Aluno: '))\n",
    "    nota1 = float(input('Nota 1: '))\n",
    "    nota2 = float(input('Nota 2: '))\n",
    "    nota3 = float(input('Nota 3: '))\n",
    "    nota4 = float(input('Nota 4: '))\n",
    "    media = (nota1 + nota2 + nota3 + nota4) / 4\n",
    "    ficha.append([aluno, [nota1, nota2, nota3, nota4], media])\n",
    "    cont +=1\n",
    "print(f'Aluno -====-  Notas -====-  Média ')\n",
    "for i in ficha:\n",
    "    print(i)\n",
    "\n",
    "\n",
    "    \n",
    "\n"
   ]
  },
  {
   "cell_type": "code",
   "execution_count": 58,
   "metadata": {},
   "outputs": [
    {
     "name": "stdout",
     "output_type": "stream",
     "text": [
      "Aluno: ana\n",
      "Nota 1: 7\n",
      "Nota 2: 5\n",
      "Nota 3: 5\n",
      "Nota 4: 7\n",
      "Aluno: joao\n",
      "Nota 1: 6\n",
      "Nota 2: 7\n",
      "Nota 3: 8\n",
      "Nota 4: 9\n",
      "Aluno: pedro\n",
      "Nota 1: 7\n",
      "Nota 2: 4\n",
      "Nota 3: 3\n",
      "Nota 4: 2\n",
      "Aluno: tadeu\n",
      "Nota 1: 4\n",
      "Nota 2: 4\n",
      "Nota 3: 4\n",
      "Nota 4: 4\n",
      "Aluno: jose\n",
      "Nota 1: 8\n",
      "Nota 2: 8\n",
      "Nota 3: 9\n",
      "Nota 4: 8\n",
      "Aluno: maria\n",
      "Nota 1: 6\n",
      "Nota 2: 6\n",
      "Nota 3: 6\n",
      "Nota 4: 7\n",
      "Qual Aluno quer consultar? Para sair digite 999: mariana\n",
      "Aluno não cadastrado\n",
      "Qual Aluno quer consultar? Para sair digite 999: maria\n",
      "Aluno não cadastrado\n",
      "['maria', [6.0, 6.0, 6.0, 7.0], 6.25]\n",
      "Aprovado\n",
      "Qual Aluno quer consultar? Para sair digite 999: jose\n",
      "Aluno não cadastrado\n",
      "['jose', [8.0, 8.0, 9.0, 8.0], 8.25]\n",
      "Aprovado\n",
      "Qual Aluno quer consultar? Para sair digite 999: pedro\n",
      "Aluno não cadastrado\n",
      "['pedro', [7.0, 4.0, 3.0, 2.0], 4.0]\n",
      "Reprovado\n",
      "Qual Aluno quer consultar? Para sair digite 999: 999\n",
      "Até logo\n"
     ]
    }
   ],
   "source": [
    "# 8 - Usando a lista gerada no exercício anterior, crie uma programa que permita ao usuário digitar o nome de um aluno e o\n",
    "# programa deverá verificar se o aluno existe, se existir deve retornar as informações do aluno e se a média for menor do \n",
    "# que 6 imprima REPROVADO, senão APROVADO. (1.0 pts)\n",
    "\n",
    "ficha = list()\n",
    "cont = 0\n",
    "\n",
    "while cont < 6:\n",
    "    aluno = str(input('Aluno: '))\n",
    "    nota1 = float(input('Nota 1: '))\n",
    "    nota2 = float(input('Nota 2: '))\n",
    "    nota3 = float(input('Nota 3: '))\n",
    "    nota4 = float(input('Nota 4: '))\n",
    "    media = (nota1 + nota2 + nota3 + nota4) / 4\n",
    "    ficha.append([aluno, [nota1, nota2, nota3, nota4], media])\n",
    "    cont +=1\n",
    "    \n",
    "while True:\n",
    "    alunos = input('Qual Aluno quer consultar? Para sair digite 999: ')\n",
    "    if alunos == '999':\n",
    "        print('Até logo')\n",
    "        break\n",
    "    elif alunos not in ficha:\n",
    "        print('Aluno não cadastrado')\n",
    "    for i, a in enumerate(ficha):\n",
    "        if alunos == a[0]:\n",
    "            print(a)\n",
    "            if a[2] < 6:\n",
    "                print('Reprovado')\n",
    "            elif a[2] >= 6:\n",
    "                print('Aprovado')\n",
    "            \n",
    "                    \n",
    "    \n",
    "\n",
    "\n",
    "\n",
    "\n"
   ]
  },
  {
   "cell_type": "code",
   "execution_count": null,
   "metadata": {},
   "outputs": [],
   "source": [
    "# 9 - Faça um programa que leia uma lista com números reais e os ordene na forma crescente. O programa deve permitir que o \n",
    "# usuário insira um novo número em uma posição, mas que mantenha a lista ordenada.(1.5 pts)\n",
    "\n",
    "lista= [5.5, 8.9, 7.3, 7.1, 4, 10, -1]\n",
    "while True:\n",
    "    num = float(input(\"Qual numero quer inserir?  \"))\n",
    "    pos = int(input('Em qual posição numérica quer inserir?  '))\n",
    "    lista.insert(pos, num)\n",
    "    lista.sort()\n",
    "    resp = ''\n",
    "    resp = str(input(\"Quer inserir mais algum? Digite [S/N]\")).strip().upper()[0]\n",
    "    if resp == 'N':\n",
    "        break\n",
    "    \n",
    "print(lista)\n"
   ]
  },
  {
   "cell_type": "code",
   "execution_count": null,
   "metadata": {},
   "outputs": [],
   "source": [
    "# 10 - Sistema de Apuração de Votos (2 pts)\n",
    "# - Faça um programa que colete os votos de 5 candidatos que possuem os seguinte números de votação (5,14,23,31,55).\n",
    "# Para computar cada voto, a apurador digitará o número do candidato. Um número de candidato igual zero, indica que a apuração\n",
    "# foi encerrada. Se um número inválido for digitado, o programa deve ignorá-lo, mostrando uma breve mensagem de aviso, \n",
    "# e voltando a pedir outro número. Após o final da votação, o programa deverá exibir:\n",
    "# • O total de votos computados;\n",
    "# • O total de voto de cada candidato (não precisa estar ordenado);\n",
    "# • O percentual de voto de cada candidato (Fazer Total de votos do candidato/Total geral de votos) (não precisa estar ordenado);\n",
    "\n",
    "#Exemplo de interface\n",
    "# Informe o número do candidado: 14\n",
    "# Informe o número do candidado: 5\n",
    "# Informe o número do candidado: 55\n",
    "# Informe o número do candidado: 55\n",
    "# Informe o número do candidado: 14\n",
    "# Informe o número do candidado: 111\n",
    "# Candidato não cadastrado, voto não computado\n",
    "# Informe o número do candidado: 14\n",
    "# Informe o número do candidado: 23\n",
    "# Informe o número do candidado: 31\n",
    "# Informe o número do candidado: 14\n",
    "# Informe o número do candidado: 5\n",
    "# Informe o número do candidado: 0\n",
    "# fim da apuraçào\n",
    "\n",
    "#Resultado da votação:\n",
    "\n",
    "#Total de votos apurados: 10\n",
    "\n",
    "#Votos \n",
    "\n",
    "#Candidato 5, total de votos 2, percentual 20% \n",
    "#Candidato 14, total de votos 4, percentual 40% \n",
    "#Candidato 23, total de votos 1, percentual 10% \n",
    "#Candidato 31, total de votos 2, percentual 10% \n",
    "#Candidato 55, total de votos 2, percentual 20% "
   ]
  },
  {
   "cell_type": "code",
   "execution_count": 57,
   "metadata": {},
   "outputs": [
    {
     "name": "stdout",
     "output_type": "stream",
     "text": [
      "Digite o numero do candidato: [Para sair digite 0] 5\n",
      "Digite o numero do candidato: [Para sair digite 0] 5\n",
      "Digite o numero do candidato: [Para sair digite 0] 5\n",
      "Digite o numero do candidato: [Para sair digite 0] 5\n",
      "Digite o numero do candidato: [Para sair digite 0] 5\n",
      "Digite o numero do candidato: [Para sair digite 0] 14\n",
      "Digite o numero do candidato: [Para sair digite 0] 14\n",
      "Digite o numero do candidato: [Para sair digite 0] 14\n",
      "Digite o numero do candidato: [Para sair digite 0] 23\n",
      "Digite o numero do candidato: [Para sair digite 0] 23\n",
      "Digite o numero do candidato: [Para sair digite 0] 23\n",
      "Digite o numero do candidato: [Para sair digite 0] 31\n",
      "Digite o numero do candidato: [Para sair digite 0] 55\n",
      "Digite o numero do candidato: [Para sair digite 0] 55\n",
      "Digite o numero do candidato: [Para sair digite 0] 55\n",
      "Digite o numero do candidato: [Para sair digite 0] 55\n",
      "Digite o numero do candidato: [Para sair digite 0] 7\n",
      "Numero invalido, tente novamente\n",
      "Digite o numero do candidato: [Para sair digite 0] 0\n",
      "Fim da apuração\n",
      "Candidato 5, total de votos 5, percentual 31.25\n",
      "Candidato 14, total de votos 3 percentual 18.75\n",
      "Candidato 23 total de votos 3, percentual 18.75\n",
      "Candidato 31 total de votos 1, percentual 6.25\n",
      "Candidato 55 total de votos 4, percentual 25.0\n"
     ]
    }
   ],
   "source": [
    "lista = [5, 14, 23, 31, 55]\n",
    "l1 = l2 = l3 = l4 = l5 = 0\n",
    "\n",
    "while True:\n",
    "    cand = int(input('Digite o numero do candidato: [Para sair digite 0] '))\n",
    "    if cand not in lista and cand != 0:\n",
    "        print('Numero invalido, tente novamente')\n",
    "    elif cand == 5:\n",
    "        l1 += 1\n",
    "    elif cand == 14:\n",
    "        l2 += 1\n",
    "    elif cand == 23:\n",
    "        l3 += 1\n",
    "    elif cand == 31:\n",
    "        l4 += 1\n",
    "    elif cand == 55:\n",
    "        l5 += 1\n",
    "    elif cand == 0:\n",
    "        break\n",
    "soma =float(l1 + l2 + l3 + l4 + l5)\n",
    "print('Fim da apuração')\n",
    "print(f'Candidato 5, total de votos {l1}, percentual {(l1*100)/soma}')\n",
    "print(f'Candidato 14, total de votos {l2} percentual {(l2*100)/soma}')\n",
    "print(f'Candidato 23 total de votos {l3}, percentual {(l3*100)/soma}')\n",
    "print(f'Candidato 31 total de votos {l4}, percentual {(l4*100)/soma}')\n",
    "print(f'Candidato 55 total de votos {l5}, percentual {(l5*100)/soma}')\n",
    "\n"
   ]
  },
  {
   "cell_type": "code",
   "execution_count": 39,
   "metadata": {},
   "outputs": [],
   "source": [
    "# Referencia de consulta para funções built in para listas\n",
    "#https://www.w3schools.com/python/python_ref_list.asp"
   ]
  },
  {
   "cell_type": "code",
   "execution_count": null,
   "metadata": {},
   "outputs": [],
   "source": []
  }
 ],
 "metadata": {
  "kernelspec": {
   "display_name": "Python 3",
   "language": "python",
   "name": "python3"
  },
  "language_info": {
   "codemirror_mode": {
    "name": "ipython",
    "version": 3
   },
   "file_extension": ".py",
   "mimetype": "text/x-python",
   "name": "python",
   "nbconvert_exporter": "python",
   "pygments_lexer": "ipython3",
   "version": "3.8.3"
  }
 },
 "nbformat": 4,
 "nbformat_minor": 2
}
