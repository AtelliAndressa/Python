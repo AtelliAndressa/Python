{
  "cells": [
    {
      "cell_type": "markdown",
      "metadata": {
        "id": "view-in-github",
        "colab_type": "text"
      },
      "source": [
        "<a href=\"https://colab.research.google.com/github/AtelliAndressa/Python1/blob/master/DSA_Python_Cap02_02_Variaveis.ipynb\" target=\"_parent\"><img src=\"https://colab.research.google.com/assets/colab-badge.svg\" alt=\"Open In Colab\"/></a>"
      ]
    },
    {
      "cell_type": "markdown",
      "metadata": {
        "id": "kMybNOa73yBU"
      },
      "source": [
        "# <font color='blue'>Data Science Academy - Python Fundamentos - Capítulo 2</font>\n",
        "\n",
        "## Download: http://github.com/dsacademybr"
      ]
    },
    {
      "cell_type": "code",
      "execution_count": null,
      "metadata": {
        "id": "GM4wouMQ3yBb",
        "outputId": "c04771e4-d950-40fb-cb04-6df48c758db8"
      },
      "outputs": [
        {
          "name": "stdout",
          "output_type": "stream",
          "text": [
            "Versão da Linguagem Python Usada Neste Jupyter Notebook: 3.7.6\n"
          ]
        }
      ],
      "source": [
        "# Versão da Linguagem Python\n",
        "from platform import python_version\n",
        "print('Versão da Linguagem Python Usada Neste Jupyter Notebook:', python_version())"
      ]
    },
    {
      "cell_type": "markdown",
      "metadata": {
        "id": "EaRyrWAm3yBf"
      },
      "source": [
        "## Variáveis e Operadores "
      ]
    },
    {
      "cell_type": "code",
      "execution_count": null,
      "metadata": {
        "id": "X93Aep973yBg"
      },
      "outputs": [],
      "source": [
        "# Atribuindo o valor 1 à variável var_teste\n",
        "var_teste = 1"
      ]
    },
    {
      "cell_type": "code",
      "execution_count": null,
      "metadata": {
        "id": "JzbYrbqz3yBh",
        "outputId": "1c568713-f065-4acb-c126-cc3fd1338d46"
      },
      "outputs": [
        {
          "data": {
            "text/plain": [
              "1"
            ]
          },
          "execution_count": 3,
          "metadata": {},
          "output_type": "execute_result"
        }
      ],
      "source": [
        "# Imprimindo o valor da variável\n",
        "var_teste"
      ]
    },
    {
      "cell_type": "code",
      "execution_count": null,
      "metadata": {
        "id": "eggRD56m3yBi",
        "outputId": "af55a369-3dd1-44ac-e1d7-e151fb67b55a"
      },
      "outputs": [
        {
          "name": "stdout",
          "output_type": "stream",
          "text": [
            "1\n"
          ]
        }
      ],
      "source": [
        "# Imprimindo o valor da variável\n",
        "print(var_teste)"
      ]
    },
    {
      "cell_type": "code",
      "execution_count": null,
      "metadata": {
        "id": "FyMfSn893yBk",
        "outputId": "659d3532-2ce3-429e-a750-f815a3af5a37"
      },
      "outputs": [
        {
          "ename": "NameError",
          "evalue": "name 'my_var' is not defined",
          "output_type": "error",
          "traceback": [
            "\u001b[0;31m---------------------------------------------------------------------------\u001b[0m",
            "\u001b[0;31mNameError\u001b[0m                                 Traceback (most recent call last)",
            "\u001b[0;32m<ipython-input-5-7f70398ca07b>\u001b[0m in \u001b[0;36m<module>\u001b[0;34m\u001b[0m\n\u001b[1;32m      1\u001b[0m \u001b[0;31m# Não podemos utilizar uma variável que não foi definida. Veja a mensagem de erro.\u001b[0m\u001b[0;34m\u001b[0m\u001b[0;34m\u001b[0m\u001b[0;34m\u001b[0m\u001b[0m\n\u001b[0;32m----> 2\u001b[0;31m \u001b[0mmy_var\u001b[0m\u001b[0;34m\u001b[0m\u001b[0;34m\u001b[0m\u001b[0m\n\u001b[0m",
            "\u001b[0;31mNameError\u001b[0m: name 'my_var' is not defined"
          ]
        }
      ],
      "source": [
        "# Não podemos utilizar uma variável que não foi definida. Veja a mensagem de erro.\n",
        "my_var"
      ]
    },
    {
      "cell_type": "code",
      "execution_count": null,
      "metadata": {
        "id": "cFnx0MP73yBl"
      },
      "outputs": [],
      "source": [
        "var_teste = 2"
      ]
    },
    {
      "cell_type": "code",
      "execution_count": null,
      "metadata": {
        "id": "gCS7F2O13yBn",
        "outputId": "af6d2672-7775-41b1-b52c-dba76b016270"
      },
      "outputs": [
        {
          "data": {
            "text/plain": [
              "2"
            ]
          },
          "execution_count": 7,
          "metadata": {},
          "output_type": "execute_result"
        }
      ],
      "source": [
        "var_teste"
      ]
    },
    {
      "cell_type": "code",
      "execution_count": null,
      "metadata": {
        "id": "6EuXWDRp3yBp",
        "outputId": "387a3c86-d36e-4d53-c210-fc34363854b5"
      },
      "outputs": [
        {
          "data": {
            "text/plain": [
              "int"
            ]
          },
          "execution_count": 8,
          "metadata": {},
          "output_type": "execute_result"
        }
      ],
      "source": [
        "type(var_teste)"
      ]
    },
    {
      "cell_type": "code",
      "execution_count": null,
      "metadata": {
        "id": "CBCZ8Gjw3yBq"
      },
      "outputs": [],
      "source": [
        "var_teste = 9.5"
      ]
    },
    {
      "cell_type": "code",
      "execution_count": null,
      "metadata": {
        "id": "fS_nbXD_3yBq",
        "outputId": "eaa49b60-c3d2-4731-be27-e62357710466"
      },
      "outputs": [
        {
          "data": {
            "text/plain": [
              "float"
            ]
          },
          "execution_count": 10,
          "metadata": {},
          "output_type": "execute_result"
        }
      ],
      "source": [
        "type(var_teste)"
      ]
    },
    {
      "cell_type": "code",
      "execution_count": null,
      "metadata": {
        "id": "4HEmyi6q3yBr"
      },
      "outputs": [],
      "source": [
        "x = 1"
      ]
    },
    {
      "cell_type": "code",
      "execution_count": null,
      "metadata": {
        "id": "ShHWO4Y83yBr",
        "outputId": "ad2cc1b3-b2bb-4f86-ad63-d471594d69c0"
      },
      "outputs": [
        {
          "data": {
            "text/plain": [
              "1"
            ]
          },
          "execution_count": 12,
          "metadata": {},
          "output_type": "execute_result"
        }
      ],
      "source": [
        "x"
      ]
    },
    {
      "cell_type": "markdown",
      "metadata": {
        "id": "Qx3f8szX3yBs"
      },
      "source": [
        "## Declaração Múltipla"
      ]
    },
    {
      "cell_type": "code",
      "execution_count": null,
      "metadata": {
        "id": "GMnTXrYI3yBs"
      },
      "outputs": [],
      "source": [
        "pessoa1, pessoa2, pessoa3 = \"Maria\", \"José\", \"Tobias\""
      ]
    },
    {
      "cell_type": "code",
      "execution_count": null,
      "metadata": {
        "id": "8Jow4zHq3yBs",
        "outputId": "169327c3-ddc9-4c24-fc0d-54c78d20c06d"
      },
      "outputs": [
        {
          "data": {
            "text/plain": [
              "'Maria'"
            ]
          },
          "execution_count": 14,
          "metadata": {},
          "output_type": "execute_result"
        }
      ],
      "source": [
        "pessoa1"
      ]
    },
    {
      "cell_type": "code",
      "execution_count": null,
      "metadata": {
        "id": "N_dXhpDg3yBt",
        "outputId": "f5031fca-a5d7-4d26-c50d-1f4aedc9f412"
      },
      "outputs": [
        {
          "data": {
            "text/plain": [
              "'José'"
            ]
          },
          "execution_count": 15,
          "metadata": {},
          "output_type": "execute_result"
        }
      ],
      "source": [
        "pessoa2"
      ]
    },
    {
      "cell_type": "code",
      "execution_count": null,
      "metadata": {
        "id": "mFLZX1fz3yBt",
        "outputId": "67055f3e-4437-40e0-bb6b-ba5953620e70"
      },
      "outputs": [
        {
          "data": {
            "text/plain": [
              "'Tobias'"
            ]
          },
          "execution_count": 16,
          "metadata": {},
          "output_type": "execute_result"
        }
      ],
      "source": [
        "pessoa3"
      ]
    },
    {
      "cell_type": "code",
      "execution_count": null,
      "metadata": {
        "id": "0B65ZCVP3yBu"
      },
      "outputs": [],
      "source": [
        "fruta1 = fruta2 = fruta3 = \"Laranja\""
      ]
    },
    {
      "cell_type": "code",
      "execution_count": null,
      "metadata": {
        "id": "QgG-nKvj3yBu",
        "outputId": "167e9d62-87fc-4079-e71f-8336346b31fb"
      },
      "outputs": [
        {
          "data": {
            "text/plain": [
              "'Laranja'"
            ]
          },
          "execution_count": 18,
          "metadata": {},
          "output_type": "execute_result"
        }
      ],
      "source": [
        "fruta1"
      ]
    },
    {
      "cell_type": "code",
      "execution_count": null,
      "metadata": {
        "id": "RKKpRk-u3yBu",
        "outputId": "6dc18add-a53e-417a-a164-6d97f5885777"
      },
      "outputs": [
        {
          "data": {
            "text/plain": [
              "'Laranja'"
            ]
          },
          "execution_count": 19,
          "metadata": {},
          "output_type": "execute_result"
        }
      ],
      "source": [
        "fruta2"
      ]
    },
    {
      "cell_type": "code",
      "execution_count": null,
      "metadata": {
        "id": "Goe23FQq3yBv",
        "outputId": "37f9c3ab-1929-4127-8dd1-deb0a93ce096"
      },
      "outputs": [
        {
          "ename": "NameError",
          "evalue": "name 'Fruta2' is not defined",
          "output_type": "error",
          "traceback": [
            "\u001b[0;31m---------------------------------------------------------------------------\u001b[0m",
            "\u001b[0;31mNameError\u001b[0m                                 Traceback (most recent call last)",
            "\u001b[0;32m<ipython-input-20-064185b35816>\u001b[0m in \u001b[0;36m<module>\u001b[0;34m\u001b[0m\n\u001b[1;32m      1\u001b[0m \u001b[0;31m# Fique atento!!! Python é case-sensitive. Criamos a variável fruta2, mas não a variável Fruta2.\u001b[0m\u001b[0;34m\u001b[0m\u001b[0;34m\u001b[0m\u001b[0;34m\u001b[0m\u001b[0m\n\u001b[1;32m      2\u001b[0m \u001b[0;31m# Letras maiúsculas e minúsculas tem diferença no nome da variável.\u001b[0m\u001b[0;34m\u001b[0m\u001b[0;34m\u001b[0m\u001b[0;34m\u001b[0m\u001b[0m\n\u001b[0;32m----> 3\u001b[0;31m \u001b[0mFruta2\u001b[0m\u001b[0;34m\u001b[0m\u001b[0;34m\u001b[0m\u001b[0m\n\u001b[0m",
            "\u001b[0;31mNameError\u001b[0m: name 'Fruta2' is not defined"
          ]
        }
      ],
      "source": [
        "# Fique atento!!! Python é case-sensitive. Criamos a variável fruta2, mas não a variável Fruta2.\n",
        "# Letras maiúsculas e minúsculas tem diferença no nome da variável.\n",
        "Fruta2"
      ]
    },
    {
      "cell_type": "markdown",
      "metadata": {
        "id": "5h2R5zyD3yBv"
      },
      "source": [
        "## Pode-se usar letras, números e underline (mas não se pode começar com números)"
      ]
    },
    {
      "cell_type": "code",
      "execution_count": null,
      "metadata": {
        "id": "U0PkDAqZ3yBv"
      },
      "outputs": [],
      "source": [
        "x1 = 50"
      ]
    },
    {
      "cell_type": "code",
      "execution_count": null,
      "metadata": {
        "id": "qow9qmas3yBw",
        "outputId": "502e0c9f-8d3f-4b5e-ed8e-50be5f11c2a4"
      },
      "outputs": [
        {
          "data": {
            "text/plain": [
              "50"
            ]
          },
          "execution_count": 22,
          "metadata": {},
          "output_type": "execute_result"
        }
      ],
      "source": [
        "x1"
      ]
    },
    {
      "cell_type": "code",
      "execution_count": null,
      "metadata": {
        "id": "ZkMHsqBn3yBw",
        "outputId": "3ff97202-f0ff-4ffc-d127-bd0dd4720214"
      },
      "outputs": [
        {
          "ename": "SyntaxError",
          "evalue": "invalid syntax (<ipython-input-23-33a7c2a39e57>, line 2)",
          "output_type": "error",
          "traceback": [
            "\u001b[0;36m  File \u001b[0;32m\"<ipython-input-23-33a7c2a39e57>\"\u001b[0;36m, line \u001b[0;32m2\u001b[0m\n\u001b[0;31m    1x = 50\u001b[0m\n\u001b[0m     ^\u001b[0m\n\u001b[0;31mSyntaxError\u001b[0m\u001b[0;31m:\u001b[0m invalid syntax\n"
          ]
        }
      ],
      "source": [
        "# Mensagem de erro, pois o Python não permite nomes de variáveis que iniciem com números\n",
        "1x = 50"
      ]
    },
    {
      "cell_type": "markdown",
      "metadata": {
        "id": "9yhzncMT3yBw"
      },
      "source": [
        "## Não se pode usar palavras reservadas como nome de variável\n",
        "\n",
        "## False      \n",
        "## class      \n",
        "## finally    \n",
        "## is         \n",
        "## return\n",
        "## None       \n",
        "## continue   \n",
        "## for        \n",
        "## lambda     \n",
        "## try\n",
        "## True       \n",
        "## def        \n",
        "## from       \n",
        "## nonlocal   \n",
        "## while\n",
        "## and        \n",
        "## del        \n",
        "## global     \n",
        "## not        \n",
        "## with\n",
        "## as         \n",
        "## elif       \n",
        "## if         \n",
        "## or         \n",
        "## yield\n",
        "## assert     \n",
        "## else       \n",
        "## import     \n",
        "## pass\n",
        "## break      \n",
        "## except     \n",
        "## in         \n",
        "## raise"
      ]
    },
    {
      "cell_type": "code",
      "execution_count": null,
      "metadata": {
        "id": "z_2Tj6N03yBw",
        "outputId": "5e5ca875-2cbe-4778-8060-c08a1793075b"
      },
      "outputs": [
        {
          "ename": "SyntaxError",
          "evalue": "invalid syntax (<ipython-input-24-e88ee5721a0c>, line 2)",
          "output_type": "error",
          "traceback": [
            "\u001b[0;36m  File \u001b[0;32m\"<ipython-input-24-e88ee5721a0c>\"\u001b[0;36m, line \u001b[0;32m2\u001b[0m\n\u001b[0;31m    break = 1\u001b[0m\n\u001b[0m          ^\u001b[0m\n\u001b[0;31mSyntaxError\u001b[0m\u001b[0;31m:\u001b[0m invalid syntax\n"
          ]
        }
      ],
      "source": [
        "# Não podemos usar palavras reservadas como nome de variável\n",
        "break = 1"
      ]
    },
    {
      "cell_type": "markdown",
      "metadata": {
        "id": "QKH7Ep3z3yBx"
      },
      "source": [
        "## Variáveis atribuídas a outras variáveis e ordem dos operadores"
      ]
    },
    {
      "cell_type": "code",
      "execution_count": null,
      "metadata": {
        "id": "jlinmuzw3yBx"
      },
      "outputs": [],
      "source": [
        "largura = 2"
      ]
    },
    {
      "cell_type": "code",
      "execution_count": null,
      "metadata": {
        "id": "Tj0MhBf03yBx"
      },
      "outputs": [],
      "source": [
        "altura = 4"
      ]
    },
    {
      "cell_type": "code",
      "execution_count": null,
      "metadata": {
        "id": "QQe2KP_a3yBx"
      },
      "outputs": [],
      "source": [
        "area = largura * altura"
      ]
    },
    {
      "cell_type": "code",
      "execution_count": null,
      "metadata": {
        "id": "L8ri1Atj3yBx",
        "outputId": "4a4c76b6-c52e-4a22-c98d-c30b07403bc9"
      },
      "outputs": [
        {
          "data": {
            "text/plain": [
              "8"
            ]
          },
          "execution_count": 28,
          "metadata": {},
          "output_type": "execute_result"
        }
      ],
      "source": [
        "area"
      ]
    },
    {
      "cell_type": "code",
      "execution_count": null,
      "metadata": {
        "id": "oVzd1cHz3yBx"
      },
      "outputs": [],
      "source": [
        "perimetro = 2 * largura + 2 * altura"
      ]
    },
    {
      "cell_type": "code",
      "execution_count": null,
      "metadata": {
        "id": "MHrM8hul3yBy",
        "outputId": "7712e72a-7d84-420b-cd5e-0c0624777635"
      },
      "outputs": [
        {
          "data": {
            "text/plain": [
              "12"
            ]
          },
          "execution_count": 30,
          "metadata": {},
          "output_type": "execute_result"
        }
      ],
      "source": [
        "perimetro"
      ]
    },
    {
      "cell_type": "code",
      "execution_count": null,
      "metadata": {
        "id": "jQs9KU-Q3yBy"
      },
      "outputs": [],
      "source": [
        "# A ordem dos operadores é a mesma seguida na Matemática\n",
        "perimetro = 2 * (largura + 2)  * altura"
      ]
    },
    {
      "cell_type": "code",
      "execution_count": null,
      "metadata": {
        "id": "G2JIVf523yBy",
        "outputId": "8ec312c6-b98d-4ec0-8537-760258c45059"
      },
      "outputs": [
        {
          "data": {
            "text/plain": [
              "32"
            ]
          },
          "execution_count": 32,
          "metadata": {},
          "output_type": "execute_result"
        }
      ],
      "source": [
        "perimetro"
      ]
    },
    {
      "cell_type": "markdown",
      "metadata": {
        "id": "Wrk_jEJd3yBy"
      },
      "source": [
        "## Operações com variáveis"
      ]
    },
    {
      "cell_type": "code",
      "execution_count": null,
      "metadata": {
        "id": "YRqmsIQW3yBy"
      },
      "outputs": [],
      "source": [
        "idade1 = 25"
      ]
    },
    {
      "cell_type": "code",
      "execution_count": null,
      "metadata": {
        "id": "52v4Ts8V3yBz"
      },
      "outputs": [],
      "source": [
        "idade2 = 35"
      ]
    },
    {
      "cell_type": "code",
      "execution_count": null,
      "metadata": {
        "id": "VzbWilJl3yBz",
        "outputId": "e292bbf4-4600-40fc-b05a-d1494b510db1"
      },
      "outputs": [
        {
          "data": {
            "text/plain": [
              "60"
            ]
          },
          "execution_count": 35,
          "metadata": {},
          "output_type": "execute_result"
        }
      ],
      "source": [
        "idade1 + idade2"
      ]
    },
    {
      "cell_type": "code",
      "execution_count": null,
      "metadata": {
        "id": "Teofo5rY3yBz",
        "outputId": "4d1878ac-c9ad-4bf9-ae96-210725fa479f"
      },
      "outputs": [
        {
          "data": {
            "text/plain": [
              "10"
            ]
          },
          "execution_count": 36,
          "metadata": {},
          "output_type": "execute_result"
        }
      ],
      "source": [
        "idade2 - idade1"
      ]
    },
    {
      "cell_type": "code",
      "execution_count": null,
      "metadata": {
        "id": "su8YmtfS3yBz",
        "outputId": "c1c39ccd-e250-4faa-f4d9-48b402fbdf32"
      },
      "outputs": [
        {
          "data": {
            "text/plain": [
              "875"
            ]
          },
          "execution_count": 37,
          "metadata": {},
          "output_type": "execute_result"
        }
      ],
      "source": [
        "idade2 * idade1"
      ]
    },
    {
      "cell_type": "code",
      "execution_count": null,
      "metadata": {
        "id": "Ll3kJvB23yBz",
        "outputId": "d41ba4b7-7e45-4017-f8ba-cd207961dc50"
      },
      "outputs": [
        {
          "data": {
            "text/plain": [
              "1.4"
            ]
          },
          "execution_count": 38,
          "metadata": {},
          "output_type": "execute_result"
        }
      ],
      "source": [
        "idade2 / idade1"
      ]
    },
    {
      "cell_type": "code",
      "execution_count": null,
      "metadata": {
        "id": "vufUlR9O3yB0",
        "outputId": "f482ef3e-3f7e-4118-e313-c81af486ade1"
      },
      "outputs": [
        {
          "data": {
            "text/plain": [
              "10"
            ]
          },
          "execution_count": 39,
          "metadata": {},
          "output_type": "execute_result"
        }
      ],
      "source": [
        "idade2 % idade1"
      ]
    },
    {
      "cell_type": "markdown",
      "metadata": {
        "id": "A10sLSln3yB0"
      },
      "source": [
        "## Concatenação de Variáveis"
      ]
    },
    {
      "cell_type": "code",
      "execution_count": null,
      "metadata": {
        "id": "YT8VxCQZ3yB0"
      },
      "outputs": [],
      "source": [
        "nome = \"Steve\""
      ]
    },
    {
      "cell_type": "code",
      "execution_count": null,
      "metadata": {
        "id": "wl45vVY33yB0"
      },
      "outputs": [],
      "source": [
        "sobrenome = \"Jobs\""
      ]
    },
    {
      "cell_type": "code",
      "execution_count": null,
      "metadata": {
        "id": "IdLMmEL83yB0"
      },
      "outputs": [],
      "source": [
        "fullName = nome + \" \" + sobrenome"
      ]
    },
    {
      "cell_type": "code",
      "execution_count": null,
      "metadata": {
        "id": "jyYgmyP33yB0",
        "outputId": "df62e6e7-6c74-40fa-ee32-56d34c1a4980"
      },
      "outputs": [
        {
          "data": {
            "text/plain": [
              "'Steve Jobs'"
            ]
          },
          "execution_count": 43,
          "metadata": {},
          "output_type": "execute_result"
        }
      ],
      "source": [
        "fullName"
      ]
    },
    {
      "cell_type": "markdown",
      "metadata": {
        "id": "LHoP68Mr3yB0"
      },
      "source": [
        "# Fim"
      ]
    },
    {
      "cell_type": "markdown",
      "metadata": {
        "id": "_fkMT9rY3yB1"
      },
      "source": [
        "### Obrigado - Data Science Academy - <a href=\"http://facebook.com/dsacademybr\">facebook.com/dsacademybr</a>"
      ]
    }
  ],
  "metadata": {
    "anaconda-cloud": {},
    "kernelspec": {
      "display_name": "Python 3",
      "language": "python",
      "name": "python3"
    },
    "language_info": {
      "codemirror_mode": {
        "name": "ipython",
        "version": 3
      },
      "file_extension": ".py",
      "mimetype": "text/x-python",
      "name": "python",
      "nbconvert_exporter": "python",
      "pygments_lexer": "ipython3",
      "version": "3.7.6"
    },
    "colab": {
      "name": "DSA-Python-Cap02-02-Variaveis.ipynb",
      "provenance": [],
      "include_colab_link": true
    }
  },
  "nbformat": 4,
  "nbformat_minor": 0
}